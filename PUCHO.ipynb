{
  "cells": [
    {
      "metadata": {
        "collapsed": true,
        "_cell_guid": "13166848-4f37-44b3-a052-e32c2f37faa4",
        "_uuid": "77627eb67fff8ff0f0b7051238728fa5316f9651",
        "trusted": true
      },
      "cell_type": "code",
      "source": "import numpy as np\nimport pandas as pd\nimport matplotlib.pyplot as plt\nimport nltk\nimport re\nimport string\nimport csv\nimport operator\nimport string\nfrom bs4 import BeautifulSoup\nfrom collections import defaultdict\nfrom wordcloud import WordCloud, STOPWORDS\nfrom nltk.tokenize import word_tokenize\nfrom subprocess import check_output\nfrom nltk.stem import WordNetLemmatizer\nfrom nltk.corpus import stopwords\n",
      "execution_count": 1,
      "outputs": []
    },
    {
      "metadata": {
        "collapsed": true,
        "_cell_guid": "1420ba11-d43f-4343-98f7-9aded4cb0223",
        "_uuid": "0057b15a80c1ecb379ef3b13cb2221ecce55bb25",
        "trusted": true
      },
      "cell_type": "code",
      "source": "#Reading input files\n\ndataframes = {\n    \"cooking\": pd.read_csv(\"../input/cooking.csv\"),\n    \"crypto\": pd.read_csv(\"../input/crypto.csv\"),\n    \"robotics\": pd.read_csv(\"../input/robotics.csv\"),\n    \"biology\": pd.read_csv(\"../input/biology.csv\"),\n    \"travel\": pd.read_csv(\"../input/travel.csv\"),\n    \"diy\": pd.read_csv(\"../input/diy.csv\"),\n}",
      "execution_count": 2,
      "outputs": []
    },
    {
      "metadata": {
        "_cell_guid": "c5863b52-ce1d-4433-ab62-8e4243b12137",
        "_uuid": "ec48157394d6b8d8862ac6ab822ebd2e091f01e3",
        "trusted": true
      },
      "cell_type": "code",
      "source": "#Showing the first 5 rows of cooking file\ndataframes[\"cooking\"].head(5)",
      "execution_count": 3,
      "outputs": [
        {
          "output_type": "execute_result",
          "execution_count": 3,
          "data": {
            "text/plain": "   id                                              title  \\\n0   1        How can I get chewy chocolate chip cookies?   \n1   2                How should I cook bacon in an oven?   \n2   3  What is the difference between white and brown...   \n3   4  What is the difference between baking soda and...   \n4   5  In a tomato sauce recipe, how can I cut the ac...   \n\n                                             content  \\\n0  <p>My chocolate chips cookies are always too c...   \n1  <p>I've heard of people cooking bacon in an ov...   \n2  <p>I always use brown extra large eggs, but I ...   \n3  <p>And can I use one in place of the other in ...   \n4  <p>It seems that every time I make a tomato sa...   \n\n                                                tags  \n0                             baking cookies texture  \n1                            oven cooking-time bacon  \n2                                               eggs  \n3  substitutions please-remove-this-tag baking-so...  \n4               sauce pasta tomatoes italian-cuisine  ",
            "text/html": "<div>\n<style>\n    .dataframe thead tr:only-child th {\n        text-align: right;\n    }\n\n    .dataframe thead th {\n        text-align: left;\n    }\n\n    .dataframe tbody tr th {\n        vertical-align: top;\n    }\n</style>\n<table border=\"1\" class=\"dataframe\">\n  <thead>\n    <tr style=\"text-align: right;\">\n      <th></th>\n      <th>id</th>\n      <th>title</th>\n      <th>content</th>\n      <th>tags</th>\n    </tr>\n  </thead>\n  <tbody>\n    <tr>\n      <th>0</th>\n      <td>1</td>\n      <td>How can I get chewy chocolate chip cookies?</td>\n      <td>&lt;p&gt;My chocolate chips cookies are always too c...</td>\n      <td>baking cookies texture</td>\n    </tr>\n    <tr>\n      <th>1</th>\n      <td>2</td>\n      <td>How should I cook bacon in an oven?</td>\n      <td>&lt;p&gt;I've heard of people cooking bacon in an ov...</td>\n      <td>oven cooking-time bacon</td>\n    </tr>\n    <tr>\n      <th>2</th>\n      <td>3</td>\n      <td>What is the difference between white and brown...</td>\n      <td>&lt;p&gt;I always use brown extra large eggs, but I ...</td>\n      <td>eggs</td>\n    </tr>\n    <tr>\n      <th>3</th>\n      <td>4</td>\n      <td>What is the difference between baking soda and...</td>\n      <td>&lt;p&gt;And can I use one in place of the other in ...</td>\n      <td>substitutions please-remove-this-tag baking-so...</td>\n    </tr>\n    <tr>\n      <th>4</th>\n      <td>5</td>\n      <td>In a tomato sauce recipe, how can I cut the ac...</td>\n      <td>&lt;p&gt;It seems that every time I make a tomato sa...</td>\n      <td>sauce pasta tomatoes italian-cuisine</td>\n    </tr>\n  </tbody>\n</table>\n</div>"
          },
          "metadata": {}
        }
      ]
    },
    {
      "metadata": {
        "collapsed": true,
        "_cell_guid": "18969fe9-0adf-49bb-8a10-17acb3cae781",
        "_uuid": "85eb317798ec753ec42968929468fd6016031eeb",
        "trusted": true
      },
      "cell_type": "code",
      "source": "#Function for Cleaning the data\n\nuri_re = r'(?i)\\b((?:https?://|www\\d{0,3}[.]|[a-z0-9.\\-]+[.][a-z]{2,4}/)(?:[^\\s()<>]+|\\(([^\\s()<>]+|(\\([^\\s()<>]+\\)))*\\))+(?:\\(([^\\s()<>]+|(\\([^\\s()<>]+\\)))*\\)|[^\\s`!()\\[\\]{};:\\'\".,<>?«»“”‘’]))'\n\ndef stripTagsAndUris(x):\n    if x:\n        # BeautifulSoup on content\n        soup = BeautifulSoup(x, \"html.parser\")\n        # Stripping all <code> tags with their content if any\n        if soup.code:\n            soup.code.decompose()\n        # Get all the text out of the html\n        text =  soup.get_text()\n        # Returning text stripping out all uris\n        return re.sub(uri_re, \"\", text)\n    else:\n        return \"\"",
      "execution_count": 4,
      "outputs": []
    },
    {
      "metadata": {
        "collapsed": true,
        "_cell_guid": "b11b82c3-c4be-403a-9b59-d622f38ac567",
        "_uuid": "8a2f923eeb707b2603f1e6af050f82d4dd01eb59",
        "trusted": true
      },
      "cell_type": "code",
      "source": "# Content fiels in input file needs cleaning. Running cleaning function for content column\nfor df in dataframes.values():\n    df[\"content\"] = df[\"content\"].map(stripTagsAndUris)",
      "execution_count": 5,
      "outputs": []
    },
    {
      "metadata": {
        "_cell_guid": "f347b0a9-900d-4f32-aa19-0683177a5c9b",
        "_uuid": "43809340da186d610fd7aeb2e141a54ede245979",
        "trusted": true
      },
      "cell_type": "code",
      "source": "#Showing first 5 rows of input file after cleaning\ndataframes[\"cooking\"].head(5)",
      "execution_count": 10,
      "outputs": [
        {
          "output_type": "execute_result",
          "execution_count": 10,
          "data": {
            "text/plain": "   id                                              title  \\\n0   1        how can i get chewy chocolate chip cookies    \n1   2                how should i cook bacon in an oven    \n2   3  what is the difference between white and brown...   \n3   4  what is the difference between baking soda and...   \n4   5  in a tomato sauce recipe  how can i cut the ac...   \n\n                                             content  \\\n0  my chocolate chips cookies are always too cris...   \n1  i ve heard of people cooking bacon in an oven ...   \n2  i always use brown extra large eggs  but i can...   \n3  and can i use one in place of the other in cer...   \n4  it seems that every time i make a tomato sauce...   \n\n                                                tags  \n0                             baking cookies texture  \n1                            oven cooking-time bacon  \n2                                               eggs  \n3  substitutions please-remove-this-tag baking-so...  \n4               sauce pasta tomatoes italian-cuisine  ",
            "text/html": "<div>\n<style>\n    .dataframe thead tr:only-child th {\n        text-align: right;\n    }\n\n    .dataframe thead th {\n        text-align: left;\n    }\n\n    .dataframe tbody tr th {\n        vertical-align: top;\n    }\n</style>\n<table border=\"1\" class=\"dataframe\">\n  <thead>\n    <tr style=\"text-align: right;\">\n      <th></th>\n      <th>id</th>\n      <th>title</th>\n      <th>content</th>\n      <th>tags</th>\n    </tr>\n  </thead>\n  <tbody>\n    <tr>\n      <th>0</th>\n      <td>1</td>\n      <td>how can i get chewy chocolate chip cookies</td>\n      <td>my chocolate chips cookies are always too cris...</td>\n      <td>baking cookies texture</td>\n    </tr>\n    <tr>\n      <th>1</th>\n      <td>2</td>\n      <td>how should i cook bacon in an oven</td>\n      <td>i ve heard of people cooking bacon in an oven ...</td>\n      <td>oven cooking-time bacon</td>\n    </tr>\n    <tr>\n      <th>2</th>\n      <td>3</td>\n      <td>what is the difference between white and brown...</td>\n      <td>i always use brown extra large eggs  but i can...</td>\n      <td>eggs</td>\n    </tr>\n    <tr>\n      <th>3</th>\n      <td>4</td>\n      <td>what is the difference between baking soda and...</td>\n      <td>and can i use one in place of the other in cer...</td>\n      <td>substitutions please-remove-this-tag baking-so...</td>\n    </tr>\n    <tr>\n      <th>4</th>\n      <td>5</td>\n      <td>in a tomato sauce recipe  how can i cut the ac...</td>\n      <td>it seems that every time i make a tomato sauce...</td>\n      <td>sauce pasta tomatoes italian-cuisine</td>\n    </tr>\n  </tbody>\n</table>\n</div>"
          },
          "metadata": {}
        }
      ]
    },
    {
      "metadata": {
        "collapsed": true,
        "_cell_guid": "7e3b58c8-8092-40a9-ba41-caa1691e7fac",
        "_uuid": "ea7dec8382f6a0b5b7a943ae43eb0b6478b1c198",
        "trusted": true
      },
      "cell_type": "code",
      "source": "#Removing punctuation marks from cleaned input file\ndef removePunctuation(x):\n    # Lowercasing all words\n    x = x.lower()\n    # Removing non ASCII chars\n    x = re.sub(r'[^\\x00-\\x7f]',r' ',x)\n    # Removing (replacing with empty spaces actually) all the punctuations\n    return re.sub(\"[\"+string.punctuation+\"]\", \" \", x)",
      "execution_count": 8,
      "outputs": []
    },
    {
      "metadata": {
        "_cell_guid": "620a76c2-9102-413b-9d3a-3d3e76d563db",
        "_uuid": "adfd331beafc34feb3a15a0f678611d52de94c79",
        "trusted": true
      },
      "cell_type": "code",
      "source": "#Removing punctuation from title and content column of cleaned input file\nfor df in dataframes.values():\n    df[\"title\"] = df[\"title\"].map(removePunctuation)\n    df[\"content\"] = df[\"content\"].map(removePunctuation)",
      "execution_count": 9,
      "outputs": []
    },
    {
      "metadata": {
        "_cell_guid": "0c3d727e-589d-438e-9fd6-5b5906a5a58b",
        "_uuid": "cd216a4be9a33f7d9a068ccb0f383614d062787d",
        "trusted": true
      },
      "cell_type": "code",
      "source": "#Showing first 5 rows after removing punctuation\ndataframes[\"cooking\"].head(5)",
      "execution_count": 11,
      "outputs": [
        {
          "output_type": "execute_result",
          "execution_count": 11,
          "data": {
            "text/plain": "   id                                              title  \\\n0   1        how can i get chewy chocolate chip cookies    \n1   2                how should i cook bacon in an oven    \n2   3  what is the difference between white and brown...   \n3   4  what is the difference between baking soda and...   \n4   5  in a tomato sauce recipe  how can i cut the ac...   \n\n                                             content  \\\n0  my chocolate chips cookies are always too cris...   \n1  i ve heard of people cooking bacon in an oven ...   \n2  i always use brown extra large eggs  but i can...   \n3  and can i use one in place of the other in cer...   \n4  it seems that every time i make a tomato sauce...   \n\n                                                tags  \n0                             baking cookies texture  \n1                            oven cooking-time bacon  \n2                                               eggs  \n3  substitutions please-remove-this-tag baking-so...  \n4               sauce pasta tomatoes italian-cuisine  ",
            "text/html": "<div>\n<style>\n    .dataframe thead tr:only-child th {\n        text-align: right;\n    }\n\n    .dataframe thead th {\n        text-align: left;\n    }\n\n    .dataframe tbody tr th {\n        vertical-align: top;\n    }\n</style>\n<table border=\"1\" class=\"dataframe\">\n  <thead>\n    <tr style=\"text-align: right;\">\n      <th></th>\n      <th>id</th>\n      <th>title</th>\n      <th>content</th>\n      <th>tags</th>\n    </tr>\n  </thead>\n  <tbody>\n    <tr>\n      <th>0</th>\n      <td>1</td>\n      <td>how can i get chewy chocolate chip cookies</td>\n      <td>my chocolate chips cookies are always too cris...</td>\n      <td>baking cookies texture</td>\n    </tr>\n    <tr>\n      <th>1</th>\n      <td>2</td>\n      <td>how should i cook bacon in an oven</td>\n      <td>i ve heard of people cooking bacon in an oven ...</td>\n      <td>oven cooking-time bacon</td>\n    </tr>\n    <tr>\n      <th>2</th>\n      <td>3</td>\n      <td>what is the difference between white and brown...</td>\n      <td>i always use brown extra large eggs  but i can...</td>\n      <td>eggs</td>\n    </tr>\n    <tr>\n      <th>3</th>\n      <td>4</td>\n      <td>what is the difference between baking soda and...</td>\n      <td>and can i use one in place of the other in cer...</td>\n      <td>substitutions please-remove-this-tag baking-so...</td>\n    </tr>\n    <tr>\n      <th>4</th>\n      <td>5</td>\n      <td>in a tomato sauce recipe  how can i cut the ac...</td>\n      <td>it seems that every time i make a tomato sauce...</td>\n      <td>sauce pasta tomatoes italian-cuisine</td>\n    </tr>\n  </tbody>\n</table>\n</div>"
          },
          "metadata": {}
        }
      ]
    },
    {
      "metadata": {
        "collapsed": true,
        "_cell_guid": "e1442c6c-c5bd-4f6b-ab85-6dc313d1e4ed",
        "_uuid": "817de1bba632e911496263e3eaca5a061ed7831c",
        "trusted": true
      },
      "cell_type": "code",
      "source": "#Removing stopword function\nstops = set(stopwords.words(\"english\"))\ndef removeStopwords(x):\n    # Removing all the stopwords\n    filtered_words = [word for word in x.split() if word not in stops]\n    return \" \".join(filtered_words)",
      "execution_count": 12,
      "outputs": []
    },
    {
      "metadata": {
        "collapsed": true,
        "_cell_guid": "9677994f-0dde-4c56-a7b9-ec517277ac73",
        "_uuid": "2052ab2a780a1ee3c32ca611a7a77b84c540ecdf",
        "trusted": true
      },
      "cell_type": "code",
      "source": "#Removing stopwords from content and title column\nfor df in dataframes.values():\n    df[\"title\"] = df[\"title\"].map(removeStopwords)\n    df[\"content\"] = df[\"content\"].map(removeStopwords)",
      "execution_count": 13,
      "outputs": []
    },
    {
      "metadata": {
        "_cell_guid": "6b6d73fd-2b61-4d73-96ef-03b017d6543a",
        "_uuid": "8c81d09a768e8180ac7968382707e48c8839e3aa",
        "trusted": true
      },
      "cell_type": "code",
      "source": "#Showing first 5 rows after removing stopwords\ndataframes[\"cooking\"].head(5)",
      "execution_count": 14,
      "outputs": [
        {
          "output_type": "execute_result",
          "execution_count": 14,
          "data": {
            "text/plain": "   id                                 title  \\\n0   1      get chewy chocolate chip cookies   \n1   2                       cook bacon oven   \n2   3           difference white brown eggs   \n3   4  difference baking soda baking powder   \n4   5       tomato sauce recipe cut acidity   \n\n                                             content  \\\n0  chocolate chips cookies always crisp get chewy...   \n1  heard people cooking bacon oven laying strips ...   \n2  always use brown extra large eggs honestly say...   \n3                      use one place certain recipes   \n4  seems every time make tomato sauce pasta sauce...   \n\n                                                tags  \n0                             baking cookies texture  \n1                            oven cooking-time bacon  \n2                                               eggs  \n3  substitutions please-remove-this-tag baking-so...  \n4               sauce pasta tomatoes italian-cuisine  ",
            "text/html": "<div>\n<style>\n    .dataframe thead tr:only-child th {\n        text-align: right;\n    }\n\n    .dataframe thead th {\n        text-align: left;\n    }\n\n    .dataframe tbody tr th {\n        vertical-align: top;\n    }\n</style>\n<table border=\"1\" class=\"dataframe\">\n  <thead>\n    <tr style=\"text-align: right;\">\n      <th></th>\n      <th>id</th>\n      <th>title</th>\n      <th>content</th>\n      <th>tags</th>\n    </tr>\n  </thead>\n  <tbody>\n    <tr>\n      <th>0</th>\n      <td>1</td>\n      <td>get chewy chocolate chip cookies</td>\n      <td>chocolate chips cookies always crisp get chewy...</td>\n      <td>baking cookies texture</td>\n    </tr>\n    <tr>\n      <th>1</th>\n      <td>2</td>\n      <td>cook bacon oven</td>\n      <td>heard people cooking bacon oven laying strips ...</td>\n      <td>oven cooking-time bacon</td>\n    </tr>\n    <tr>\n      <th>2</th>\n      <td>3</td>\n      <td>difference white brown eggs</td>\n      <td>always use brown extra large eggs honestly say...</td>\n      <td>eggs</td>\n    </tr>\n    <tr>\n      <th>3</th>\n      <td>4</td>\n      <td>difference baking soda baking powder</td>\n      <td>use one place certain recipes</td>\n      <td>substitutions please-remove-this-tag baking-so...</td>\n    </tr>\n    <tr>\n      <th>4</th>\n      <td>5</td>\n      <td>tomato sauce recipe cut acidity</td>\n      <td>seems every time make tomato sauce pasta sauce...</td>\n      <td>sauce pasta tomatoes italian-cuisine</td>\n    </tr>\n  </tbody>\n</table>\n</div>"
          },
          "metadata": {}
        }
      ]
    },
    {
      "metadata": {
        "collapsed": true,
        "_cell_guid": "a977a9e4-c718-46ce-9d12-45cf3f5f6e60",
        "_uuid": "de6e09b6a4b732afb11517b5ffbe060035a36011",
        "trusted": true
      },
      "cell_type": "code",
      "source": "#Splitting into words\nfor df in dataframes.values():\n    df[\"tags\"] = df[\"tags\"].map(lambda x: x.split())",
      "execution_count": 15,
      "outputs": []
    },
    {
      "metadata": {
        "_cell_guid": "d0738e50-c09a-4481-80cb-06cc7e4505ef",
        "_uuid": "65bf2fec6ae1e0c17c68ab1c3fd9b227187e1b1f",
        "trusted": true
      },
      "cell_type": "code",
      "source": "#Showing first 5 rows after splitting\ndataframes[\"cooking\"].head(5)",
      "execution_count": 16,
      "outputs": [
        {
          "output_type": "execute_result",
          "execution_count": 16,
          "data": {
            "text/plain": "   id                                 title  \\\n0   1      get chewy chocolate chip cookies   \n1   2                       cook bacon oven   \n2   3           difference white brown eggs   \n3   4  difference baking soda baking powder   \n4   5       tomato sauce recipe cut acidity   \n\n                                             content  \\\n0  chocolate chips cookies always crisp get chewy...   \n1  heard people cooking bacon oven laying strips ...   \n2  always use brown extra large eggs honestly say...   \n3                      use one place certain recipes   \n4  seems every time make tomato sauce pasta sauce...   \n\n                                                tags  \n0                         [baking, cookies, texture]  \n1                        [oven, cooking-time, bacon]  \n2                                             [eggs]  \n3  [substitutions, please-remove-this-tag, baking...  \n4          [sauce, pasta, tomatoes, italian-cuisine]  ",
            "text/html": "<div>\n<style>\n    .dataframe thead tr:only-child th {\n        text-align: right;\n    }\n\n    .dataframe thead th {\n        text-align: left;\n    }\n\n    .dataframe tbody tr th {\n        vertical-align: top;\n    }\n</style>\n<table border=\"1\" class=\"dataframe\">\n  <thead>\n    <tr style=\"text-align: right;\">\n      <th></th>\n      <th>id</th>\n      <th>title</th>\n      <th>content</th>\n      <th>tags</th>\n    </tr>\n  </thead>\n  <tbody>\n    <tr>\n      <th>0</th>\n      <td>1</td>\n      <td>get chewy chocolate chip cookies</td>\n      <td>chocolate chips cookies always crisp get chewy...</td>\n      <td>[baking, cookies, texture]</td>\n    </tr>\n    <tr>\n      <th>1</th>\n      <td>2</td>\n      <td>cook bacon oven</td>\n      <td>heard people cooking bacon oven laying strips ...</td>\n      <td>[oven, cooking-time, bacon]</td>\n    </tr>\n    <tr>\n      <th>2</th>\n      <td>3</td>\n      <td>difference white brown eggs</td>\n      <td>always use brown extra large eggs honestly say...</td>\n      <td>[eggs]</td>\n    </tr>\n    <tr>\n      <th>3</th>\n      <td>4</td>\n      <td>difference baking soda baking powder</td>\n      <td>use one place certain recipes</td>\n      <td>[substitutions, please-remove-this-tag, baking...</td>\n    </tr>\n    <tr>\n      <th>4</th>\n      <td>5</td>\n      <td>tomato sauce recipe cut acidity</td>\n      <td>seems every time make tomato sauce pasta sauce...</td>\n      <td>[sauce, pasta, tomatoes, italian-cuisine]</td>\n    </tr>\n  </tbody>\n</table>\n</div>"
          },
          "metadata": {}
        }
      ]
    },
    {
      "metadata": {
        "collapsed": true,
        "_cell_guid": "69a43f9b-1f10-486c-b5fd-3fc2eda43495",
        "_uuid": "4dcfee5c82c7a4f57405325107ba223a64cffe00",
        "trusted": true
      },
      "cell_type": "code",
      "source": "#Saving as new files\nfor name, df in dataframes.items():\n    # Saving to file\n    df.to_csv(name + \"_new.csv\", index=False)",
      "execution_count": 17,
      "outputs": []
    },
    {
      "metadata": {
        "collapsed": true,
        "_cell_guid": "ab6d92ed-21f9-405a-bcb9-7d192054c6d0",
        "_uuid": "e423ec66c15c773462cb00d1b59ab99907f6688c",
        "trusted": true
      },
      "cell_type": "code",
      "source": "#Reading new files\ndataframes1 = {\n    \"cooking\": pd.read_csv(\"cooking_new.csv\"),\n    \"crypto\": pd.read_csv(\"crypto_new.csv\"),\n    \"robotics\": pd.read_csv(\"robotics_new.csv\"),\n    \"biology\": pd.read_csv(\"biology_new.csv\"),\n    \"travel\": pd.read_csv(\"travel_new.csv\"),\n    \"diy\": pd.read_csv(\"diy_new.csv\"),\n}",
      "execution_count": 18,
      "outputs": []
    },
    {
      "metadata": {
        "collapsed": true,
        "_cell_guid": "ab9e3ec0-a1f3-4fcc-a369-8f743c09c60d",
        "_uuid": "ceb6ddcb284c2fb150da0d7fed27b0a0d32e2c1e",
        "trusted": true
      },
      "cell_type": "code",
      "source": "#Reading test file\nphysic = pd.read_csv(\"../input/test.csv\")",
      "execution_count": 19,
      "outputs": []
    },
    {
      "metadata": {
        "_cell_guid": "99c6d98d-c6fa-4e00-9fa0-cf8eff9b1b57",
        "_uuid": "bf24b664c4ef165ae52f2ab8d1225ae86e8c6e4f",
        "trusted": false,
        "collapsed": true
      },
      "cell_type": "code",
      "source": "#Showing first 5 rows of test file\ndataframes1[\"cooking\"].head(5)",
      "execution_count": null,
      "outputs": []
    },
    {
      "metadata": {
        "collapsed": true,
        "_cell_guid": "af71a2a4-d302-4bda-ba6e-3ba737528e81",
        "_uuid": "7701172b05826266cfb7e5513446867aeafec442",
        "trusted": true
      },
      "cell_type": "code",
      "source": "#Cleaning the test file\npunctuations = string.punctuation\n\ndef data_clean(data):\n    print('Cleaning data')\n    data = data.apply(lambda x: x.lower())\n    data = data.apply(lambda x: BeautifulSoup(x, 'html.parser').get_text())\n    data = data.apply(lambda x: re.sub(r'^\\W+|\\W+$',' ',x))\n    data = data.apply(lambda i: ''.join(i.strip(punctuations))  )\n    #print('tokenize')\n    data = data.apply(lambda x: word_tokenize(x))\n\n    #Select only the nouns\n    is_noun = lambda pos: pos[:2] == 'NN' \n    for i in range(len(data)):\n        data[i] = [word for (word, pos) in nltk.pos_tag(data[i]) if is_noun(pos)]\n    \n    #print('Lemmatizing')\n    wordnet_lemmatizer = WordNetLemmatizer()\n    data = data.apply(lambda x: [wordnet_lemmatizer.lemmatize(i) for i in x])\n    data = data.apply(lambda x: [i for i in x if len(i)>2])\n    return(data)",
      "execution_count": 20,
      "outputs": []
    },
    {
      "metadata": {
        "collapsed": true,
        "_cell_guid": "3b5588c6-5cbc-44ff-b26f-3632c599e15a",
        "_uuid": "be610b5730ee6b997b985f85fe121be042805421",
        "trusted": true
      },
      "cell_type": "code",
      "source": "#Get word frequency function\ndef get_frequency(title):\n    \n    frequency = []\n    inverse_frequency = {}\n    for i in range(len(title)):\n        word_count = {}\n\n        for word in title[i]:\n            if word in word_count:    \n                word_count[word] = word_count[word] + 1\n            else:\n                word_count[word] = 1\n                \n        for word in word_count:\n            if word in inverse_frequency:\n                inverse_frequency[word] = inverse_frequency[word] + 1\n            else:\n                inverse_frequency[word] = 1            \n        frequency.append(word_count)\n        \n    return (frequency, inverse_frequency)",
      "execution_count": 21,
      "outputs": []
    },
    {
      "metadata": {
        "_cell_guid": "72182783-2529-4c68-a585-9aef14a9154f",
        "_uuid": "bea5b2c9b4167bb2ded6861a1f4fe734450cd2be",
        "trusted": true
      },
      "cell_type": "code",
      "source": "#Cleaning title column of test file\ntitle = data_clean(physic.title)",
      "execution_count": 22,
      "outputs": [
        {
          "output_type": "stream",
          "text": "Cleaning data\n",
          "name": "stdout"
        }
      ]
    },
    {
      "metadata": {
        "collapsed": true,
        "_cell_guid": "e8031708-29dc-4f41-98bd-05b4c027e95d",
        "_uuid": "64877ec948c4e455f661d8fb98c2bfe6847482b2",
        "trusted": true
      },
      "cell_type": "code",
      "source": "#Getting frequency\nfrequency, inverse_frequency = get_frequency(title)\n",
      "execution_count": 23,
      "outputs": []
    },
    {
      "metadata": {
        "collapsed": true,
        "_cell_guid": "97fe1303-b43e-45df-846a-3b7c1c352ef7",
        "_uuid": "92de31271d6985e977d674ff9e192a2a8a61eef4",
        "trusted": true
      },
      "cell_type": "code",
      "source": "#Frequency of words in sorted order\nimport operator\nfrequency_words = {}\nfor document in frequency:\n    for word in document:\n        if word in frequency_words:\n            frequency_words[word] = frequency_words[word] + document[word]\n        else:\n            frequency_words[word] = document[word]            \nfrequency_words = sorted(frequency_words.values())",
      "execution_count": 26,
      "outputs": []
    },
    {
      "metadata": {
        "_cell_guid": "b92bb81b-9930-47b7-9479-47759a525ed9",
        "_uuid": "b33e90485ce257ac0105b0ae963a4b9b42983a59",
        "trusted": true
      },
      "cell_type": "code",
      "source": "#Print words with their corresponding frequency\nprint('number of words:',len(frequency_words))",
      "execution_count": 27,
      "outputs": [
        {
          "output_type": "stream",
          "text": "number of words: 14265\n",
          "name": "stdout"
        }
      ]
    },
    {
      "metadata": {
        "collapsed": true,
        "_cell_guid": "2366cef7-623b-4d1e-aa11-21429c0447c2",
        "_uuid": "2e0496e77b5360b16a8d69a929eae935ff8cd555",
        "trusted": true
      },
      "cell_type": "code",
      "source": "tfidf = frequency\ntfidf_distribution = []\nfor document in tfidf:\n    if document == {}:\n        continue\n    max_frequency = sorted(document.items(), key=operator.itemgetter(1), reverse=True)[0][1]\n    for word in document:\n        document[word] = document[word]/(max_frequency + 0.0)*np.log(len(tfidf)/(inverse_frequency[word]+0.))\n        tfidf_distribution.append(document[word])",
      "execution_count": 28,
      "outputs": []
    },
    {
      "metadata": {
        "_cell_guid": "47cece7e-bc41-407d-9d78-3ea80e0e1650",
        "_uuid": "202e3f2907a982c83d18596546ab47b531531fb8",
        "trusted": true
      },
      "cell_type": "code",
      "source": "index = 1\nsorted(tfidf[index].items(), key=operator.itemgetter(1), reverse=True)",
      "execution_count": 29,
      "outputs": [
        {
          "output_type": "execute_result",
          "execution_count": 29,
          "data": {
            "text/plain": "[('explanation', 5.4584997575763294),\n ('string', 5.2709388460963753),\n ('theory', 3.7091753309824185)]"
          },
          "metadata": {}
        }
      ]
    },
    {
      "metadata": {
        "_cell_guid": "5da996e9-0003-40e6-9057-b60906eeae69",
        "_uuid": "d3ad970b6b0e82a88777cca97d62d243e36b0cfe",
        "trusted": true
      },
      "cell_type": "code",
      "source": "print(physic.title[index])\nprint(physic.content[index])",
      "execution_count": 30,
      "outputs": [
        {
          "output_type": "stream",
          "text": "What is your simplest explanation of the string theory?\n<p>How would you explain string theory to non physicists such as myself? I'm specially interested on how plausible is it and what is needed to successfully prove it?</p>\n\n",
          "name": "stdout"
        }
      ]
    },
    {
      "metadata": {
        "_cell_guid": "ff91c6ec-95d6-41e8-9250-c8554fc1dc94",
        "_uuid": "849399a55fe9dc5525e1a033fcf9c527533843e4",
        "trusted": true,
        "collapsed": true
      },
      "cell_type": "code",
      "source": "#Generate upto 8 tags for particular question\ntop = 8\noutput = []\nfor i in range(len(physic)):\n    prediction = sorted(tfidf[i], key=tfidf[i].get, reverse=True)[0:top]\n    output.append([physic.id[i], ' '.join(prediction)])",
      "execution_count": 31,
      "outputs": []
    },
    {
      "metadata": {
        "_cell_guid": "595fc72a-126c-4369-853b-490c4da70e34",
        "_uuid": "de759928c5556ece74e956c5e5fcb04ada7e28e6",
        "trusted": true,
        "collapsed": true
      },
      "cell_type": "code",
      "source": "pd.DataFrame(data=output,columns = ['id','tags']).to_csv('submission.csv', index=False)",
      "execution_count": 32,
      "outputs": []
    },
    {
      "metadata": {
        "_cell_guid": "10a0f3f9-720f-4e22-b120-e924ae33aedd",
        "_uuid": "6c38dad2faacb3e5297d44816e1d191e5b5b8ae7",
        "trusted": true,
        "collapsed": true
      },
      "cell_type": "code",
      "source": "dataframes3 = {\"sub\": pd.read_csv(\"submission.csv\")}",
      "execution_count": 33,
      "outputs": []
    },
    {
      "metadata": {
        "_cell_guid": "5e16052f-326f-4f7a-977f-a306f78fc42e",
        "_uuid": "91112fc68045b146ba071569233cc1906bf27d71",
        "trusted": true
      },
      "cell_type": "code",
      "source": "dataframes3[\"sub\"].head(5)",
      "execution_count": 34,
      "outputs": [
        {
          "output_type": "execute_result",
          "execution_count": 34,
          "data": {
            "text/plain": "   id                                       tags\n0   1                                   particle\n1   2                  explanation string theory\n2   3  lie representation physic theory particle\n3   7                                        NaN\n4   9                         hamilton principle",
            "text/html": "<div>\n<style>\n    .dataframe thead tr:only-child th {\n        text-align: right;\n    }\n\n    .dataframe thead th {\n        text-align: left;\n    }\n\n    .dataframe tbody tr th {\n        vertical-align: top;\n    }\n</style>\n<table border=\"1\" class=\"dataframe\">\n  <thead>\n    <tr style=\"text-align: right;\">\n      <th></th>\n      <th>id</th>\n      <th>tags</th>\n    </tr>\n  </thead>\n  <tbody>\n    <tr>\n      <th>0</th>\n      <td>1</td>\n      <td>particle</td>\n    </tr>\n    <tr>\n      <th>1</th>\n      <td>2</td>\n      <td>explanation string theory</td>\n    </tr>\n    <tr>\n      <th>2</th>\n      <td>3</td>\n      <td>lie representation physic theory particle</td>\n    </tr>\n    <tr>\n      <th>3</th>\n      <td>7</td>\n      <td>NaN</td>\n    </tr>\n    <tr>\n      <th>4</th>\n      <td>9</td>\n      <td>hamilton principle</td>\n    </tr>\n  </tbody>\n</table>\n</div>"
          },
          "metadata": {}
        }
      ]
    },
    {
      "metadata": {
        "_cell_guid": "f6a85ae3-67ce-43d3-ae4c-56e00f5890ac",
        "_uuid": "b7c7128cee16c2c3331216adb190f56291617335",
        "trusted": true
      },
      "cell_type": "code",
      "source": "print(\"Completed\")",
      "execution_count": 35,
      "outputs": [
        {
          "output_type": "stream",
          "text": "Completed\n",
          "name": "stdout"
        }
      ]
    }
  ],
  "metadata": {
    "kernelspec": {
      "display_name": "Python 3",
      "language": "python",
      "name": "python3"
    },
    "language_info": {
      "name": "python",
      "version": "3.6.3",
      "mimetype": "text/x-python",
      "codemirror_mode": {
        "name": "ipython",
        "version": 3
      },
      "pygments_lexer": "ipython3",
      "nbconvert_exporter": "python",
      "file_extension": ".py"
    }
  },
  "nbformat": 4,
  "nbformat_minor": 1
}